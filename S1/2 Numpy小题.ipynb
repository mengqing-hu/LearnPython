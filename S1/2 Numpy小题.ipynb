{
 "cells": [
  {
   "cell_type": "code",
   "execution_count": 16,
   "id": "8f6095d4",
   "metadata": {},
   "outputs": [],
   "source": [
    "import numpy as np"
   ]
  },
  {
   "cell_type": "code",
   "execution_count": 17,
   "id": "c8b8560f",
   "metadata": {},
   "outputs": [
    {
     "data": {
      "text/plain": [
       "array([[1., 0., 0., 0., 0.],\n",
       "       [0., 1., 0., 0., 0.],\n",
       "       [0., 0., 1., 0., 0.],\n",
       "       [0., 0., 0., 1., 0.],\n",
       "       [0., 0., 0., 0., 1.]])"
      ]
     },
     "execution_count": 17,
     "metadata": {},
     "output_type": "execute_result"
    }
   ],
   "source": [
    "# 生成一个 5x5 的单位矩阵\n",
    "a = np.eye(5)\n",
    "a"
   ]
  },
  {
   "cell_type": "code",
   "execution_count": 18,
   "id": "e402d7e9",
   "metadata": {},
   "outputs": [
    {
     "data": {
      "text/plain": [
       "array([  0,   2,   4,   6,   8,  10,  12,  14,  16,  18,  20,  22,  24,\n",
       "        26,  28,  30,  32,  34,  36,  38,  40,  42,  44,  46,  48,  50,\n",
       "        52,  54,  56,  58,  60,  62,  64,  66,  68,  70,  72,  74,  76,\n",
       "        78,  80,  82,  84,  86,  88,  90,  92,  94,  96,  98, 100])"
      ]
     },
     "execution_count": 18,
     "metadata": {},
     "output_type": "execute_result"
    }
   ],
   "source": [
    "# 创建一个 1 到 100 的数组，并取偶数\n",
    "b = np.arange(0,101,2)\n",
    "b"
   ]
  },
  {
   "cell_type": "code",
   "execution_count": null,
   "id": "13ddfd53",
   "metadata": {},
   "outputs": [
    {
     "data": {
      "text/plain": [
       "array([ 2,  6, 10])"
      ]
     },
     "execution_count": 22,
     "metadata": {},
     "output_type": "execute_result"
    }
   ],
   "source": [
    "b[[1,3,5]]  # 取索引为1,3,5的元素"
   ]
  },
  {
   "cell_type": "code",
   "execution_count": 19,
   "id": "0e9f4545",
   "metadata": {},
   "outputs": [
    {
     "data": {
      "text/plain": [
       "np.int64(2550)"
      ]
     },
     "execution_count": 19,
     "metadata": {},
     "output_type": "execute_result"
    }
   ],
   "source": [
    "# 创建一个 1 到 100 的数组，并求所有偶数之和\n",
    "c = np.arange(1,101)\n",
    "even = c[c%2==0]\n",
    "sum = np.sum(even)\n",
    "sum"
   ]
  },
  {
   "cell_type": "code",
   "execution_count": 20,
   "id": "f6e8848e",
   "metadata": {},
   "outputs": [
    {
     "data": {
      "text/plain": [
       "array([12, 15, 18])"
      ]
     },
     "execution_count": 20,
     "metadata": {},
     "output_type": "execute_result"
    }
   ],
   "source": [
    "# 对一个二维数组按列求和\n",
    "d = np.array([[1,2,3],[4,5,6],[7,8,9]])\n",
    "col_sum = np.sum(d, axis=0)\n",
    "col_sum"
   ]
  },
  {
   "cell_type": "code",
   "execution_count": 21,
   "id": "b2c43b0e",
   "metadata": {},
   "outputs": [
    {
     "data": {
      "text/plain": [
       "(array([[-2. ,  1. ],\n",
       "        [ 1.5, -0.5]]),\n",
       " np.float64(-2.0000000000000004),\n",
       " array([-0.37228132,  5.37228132]))"
      ]
     },
     "execution_count": 21,
     "metadata": {},
     "output_type": "execute_result"
    }
   ],
   "source": [
    "# 求一个矩阵的逆矩阵、行列式和特征值\n",
    "e = np.array([[1,2],[3,4]])\n",
    "inv_e = np.linalg.inv(e)\n",
    "det_e = np.linalg.det(e)\n",
    "eigvals_e = np.linalg.eigvals(e)\n",
    "inv_e, det_e, eigvals_e"
   ]
  },
  {
   "cell_type": "code",
   "execution_count": 23,
   "id": "c7126c44",
   "metadata": {},
   "outputs": [
    {
     "name": "stdout",
     "output_type": "stream",
     "text": [
      "普通循环: [11, 22, 33, 44, 55]\n",
      "向量化运算: [11 22 33 44 55]\n"
     ]
    }
   ],
   "source": [
    "# 普通 Python 循环 vs 向量化\n",
    "\n",
    "# 普通 Python 循环\n",
    "a = [1,2,3,4,5]\n",
    "b = [10,20,30,40,50]\n",
    "c = []\n",
    "for i in range(len(a)):\n",
    "    c.append(a[i] + b[i])\n",
    "print(\"普通循环:\", c)\n",
    "\n",
    "# NumPy 向量化运算\n",
    "arr1 = np.array([1,2,3,4,5])\n",
    "arr2 = np.array([10,20,30,40,50])\n",
    "c = arr1 + arr2\n",
    "print(\"向量化运算:\", c)"
   ]
  },
  {
   "cell_type": "code",
   "execution_count": 24,
   "id": "0c0fdba7",
   "metadata": {},
   "outputs": [
    {
     "name": "stdout",
     "output_type": "stream",
     "text": [
      "普通循环: [1, 4, 9, 16, 25]\n",
      "向量化运算: [ 1  4  9 16 25]\n"
     ]
    }
   ],
   "source": [
    "# 平方运算\n",
    "\n",
    "# 普通循环\n",
    "nums = [1,2,3,4,5]\n",
    "squares = [x**2 for x in nums]\n",
    "print(\"普通循环:\", squares)\n",
    "\n",
    "# 向量化\n",
    "arr = np.array([1,2,3,4,5])\n",
    "squares = arr**2\n",
    "print(\"向量化运算:\", squares)\n"
   ]
  }
 ],
 "metadata": {
  "kernelspec": {
   "display_name": "3.10.13",
   "language": "python",
   "name": "python3"
  },
  "language_info": {
   "codemirror_mode": {
    "name": "ipython",
    "version": 3
   },
   "file_extension": ".py",
   "mimetype": "text/x-python",
   "name": "python",
   "nbconvert_exporter": "python",
   "pygments_lexer": "ipython3",
   "version": "3.10.13"
  }
 },
 "nbformat": 4,
 "nbformat_minor": 5
}
