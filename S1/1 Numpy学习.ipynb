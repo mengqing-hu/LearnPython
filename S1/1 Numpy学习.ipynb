{
 "cells": [
  {
   "cell_type": "code",
   "execution_count": 2,
   "id": "51fdccd7",
   "metadata": {},
   "outputs": [],
   "source": [
    "import numpy as np"
   ]
  },
  {
   "cell_type": "markdown",
   "id": "011c967c",
   "metadata": {},
   "source": [
    "###创建数组"
   ]
  },
  {
   "cell_type": "code",
   "execution_count": 4,
   "id": "44dd304a",
   "metadata": {},
   "outputs": [
    {
     "data": {
      "text/plain": [
       "array([1, 2, 3])"
      ]
     },
     "execution_count": 4,
     "metadata": {},
     "output_type": "execute_result"
    }
   ],
   "source": [
    "a = np.array([1, 2, 3]) #一维数组\n",
    "a"
   ]
  },
  {
   "cell_type": "code",
   "execution_count": 5,
   "id": "3365d3b8",
   "metadata": {},
   "outputs": [
    {
     "data": {
      "text/plain": [
       "array([[1, 2, 3],\n",
       "       [4, 5, 6]])"
      ]
     },
     "execution_count": 5,
     "metadata": {},
     "output_type": "execute_result"
    }
   ],
   "source": [
    "b = np.array([[1, 2, 3], [4, 5, 6]]) #二维数组\n",
    "b"
   ]
  },
  {
   "cell_type": "code",
   "execution_count": 6,
   "id": "859094b6",
   "metadata": {},
   "outputs": [
    {
     "data": {
      "text/plain": [
       "array([[0., 0., 0.],\n",
       "       [0., 0., 0.]])"
      ]
     },
     "execution_count": 6,
     "metadata": {},
     "output_type": "execute_result"
    }
   ],
   "source": [
    "c = np.zeros((2, 3)) #创建一个2行3列的全零数组\n",
    "c"
   ]
  },
  {
   "cell_type": "code",
   "execution_count": 8,
   "id": "5ac25f0a",
   "metadata": {},
   "outputs": [
    {
     "data": {
      "text/plain": [
       "array([[1., 1., 1., 1.],\n",
       "       [1., 1., 1., 1.],\n",
       "       [1., 1., 1., 1.]])"
      ]
     },
     "execution_count": 8,
     "metadata": {},
     "output_type": "execute_result"
    }
   ],
   "source": [
    "d = np.ones((3, 4)) #创建一个3行4列的全一数组\n",
    "d"
   ]
  },
  {
   "cell_type": "code",
   "execution_count": 9,
   "id": "c9fd9c66",
   "metadata": {},
   "outputs": [
    {
     "data": {
      "text/plain": [
       "array([[7, 7],\n",
       "       [7, 7]])"
      ]
     },
     "execution_count": 9,
     "metadata": {},
     "output_type": "execute_result"
    }
   ],
   "source": [
    "e = np.full((2, 2), 7) #创建一个2行2列的全7数组\n",
    "e"
   ]
  },
  {
   "cell_type": "code",
   "execution_count": 10,
   "id": "6bf6b14c",
   "metadata": {},
   "outputs": [
    {
     "data": {
      "text/plain": [
       "array([[1., 0., 0.],\n",
       "       [0., 1., 0.],\n",
       "       [0., 0., 1.]])"
      ]
     },
     "execution_count": 10,
     "metadata": {},
     "output_type": "execute_result"
    }
   ],
   "source": [
    "f = np.eye(3) #创建一个3x3的单位矩阵\n",
    "f"
   ]
  },
  {
   "cell_type": "code",
   "execution_count": 11,
   "id": "3fcd4daf",
   "metadata": {},
   "outputs": [
    {
     "data": {
      "text/plain": [
       "array([[0.05547966, 0.29775264, 0.50074506],\n",
       "       [0.38649469, 0.86981595, 0.43819944]])"
      ]
     },
     "execution_count": 11,
     "metadata": {},
     "output_type": "execute_result"
    }
   ],
   "source": [
    "g = np.random.rand(2, 3) #创建一个2行3列的随机数组\n",
    "g"
   ]
  },
  {
   "cell_type": "code",
   "execution_count": 12,
   "id": "0201bca4",
   "metadata": {},
   "outputs": [
    {
     "data": {
      "text/plain": [
       "array([0, 2, 4, 6, 8])"
      ]
     },
     "execution_count": 12,
     "metadata": {},
     "output_type": "execute_result"
    }
   ],
   "source": [
    "h = np.arange(0, 10, 2) #创建一个从0到10，步长为2的数组\n",
    "h"
   ]
  },
  {
   "cell_type": "code",
   "execution_count": 13,
   "id": "9ec0eb0a",
   "metadata": {},
   "outputs": [
    {
     "data": {
      "text/plain": [
       "array([0.  , 0.25, 0.5 , 0.75, 1.  ])"
      ]
     },
     "execution_count": 13,
     "metadata": {},
     "output_type": "execute_result"
    }
   ],
   "source": [
    "i = np.linspace(0, 1, 5) #创建一个从0到1，包含5个均匀分布的数的数组\n",
    "i"
   ]
  },
  {
   "cell_type": "code",
   "execution_count": null,
   "id": "64faa4d5",
   "metadata": {},
   "outputs": [
    {
     "data": {
      "text/plain": [
       "array([ 1.76405235,  0.40015721,  0.97873798,  2.2408932 ,  1.86755799,\n",
       "       -0.97727788,  0.95008842, -0.15135721, -0.10321885,  0.4105985 ])"
      ]
     },
     "execution_count": 61,
     "metadata": {},
     "output_type": "execute_result"
    }
   ],
   "source": [
    "#种子本身的数值（0、1、2…）没有特别含义，只是决定起点。\n",
    "#例如：\n",
    "#你设 seed=0，永远得到那一串 [0.5488, 0.7151, …]\n",
    "#你设 seed=1，永远得到另一串 [0.4170, 0.7203, …]\n",
    "#换成 seed=2，又是另一串。\n",
    "\n",
    "np.random.seed(0) #设置随机种子，确保每次生成的随机数相同   \n",
    "k = np.random.randn(10) #创建一个包含10个标准正态分布随机数的一维数组\n",
    "k"
   ]
  },
  {
   "cell_type": "code",
   "execution_count": null,
   "id": "7ad30d65",
   "metadata": {},
   "outputs": [
    {
     "data": {
      "text/plain": [
       "array([[0.46147936, 0.78052918, 0.11827443],\n",
       "       [0.63992102, 0.14335329, 0.94466892]])"
      ]
     },
     "execution_count": 64,
     "metadata": {},
     "output_type": "execute_result"
    }
   ],
   "source": [
    "np.random.rand(2,3) #创建一个2行3列的随机数组，满足[0,1) 均匀分布"
   ]
  },
  {
   "cell_type": "code",
   "execution_count": 65,
   "id": "af27b289",
   "metadata": {},
   "outputs": [
    {
     "data": {
      "text/plain": [
       "array([[-2.55298982,  0.6536186 ,  0.8644362 ],\n",
       "       [-0.74216502,  2.26975462, -1.45436567]])"
      ]
     },
     "execution_count": 65,
     "metadata": {},
     "output_type": "execute_result"
    }
   ],
   "source": [
    "np.random.randn(2,3) #创建一个2行3列的标准正态分布随机数组"
   ]
  },
  {
   "cell_type": "code",
   "execution_count": null,
   "id": "bce1a630",
   "metadata": {},
   "outputs": [
    {
     "data": {
      "text/plain": [
       "array([[0, 4, 5],\n",
       "       [5, 6, 8]])"
      ]
     },
     "execution_count": 66,
     "metadata": {},
     "output_type": "execute_result"
    }
   ],
   "source": [
    "np.random.randint(0, 10, (2, 3)) #整数随机，创建一个2行3列的随机整数数组，整数范围在0到10之间"
   ]
  },
  {
   "cell_type": "markdown",
   "id": "93584523",
   "metadata": {},
   "source": [
    "### 数组属性"
   ]
  },
  {
   "cell_type": "code",
   "execution_count": null,
   "id": "a8f2a88c",
   "metadata": {},
   "outputs": [
    {
     "data": {
      "text/plain": [
       "(3,)"
      ]
     },
     "execution_count": 14,
     "metadata": {},
     "output_type": "execute_result"
    }
   ],
   "source": [
    "a.shape #数组的形状"
   ]
  },
  {
   "cell_type": "code",
   "execution_count": 15,
   "id": "2be74c31",
   "metadata": {},
   "outputs": [
    {
     "data": {
      "text/plain": [
       "(2, 3)"
      ]
     },
     "execution_count": 15,
     "metadata": {},
     "output_type": "execute_result"
    }
   ],
   "source": [
    "b.shape #二维数组的形状"
   ]
  },
  {
   "cell_type": "code",
   "execution_count": 16,
   "id": "bc8a8374",
   "metadata": {},
   "outputs": [
    {
     "data": {
      "text/plain": [
       "dtype('int64')"
      ]
     },
     "execution_count": 16,
     "metadata": {},
     "output_type": "execute_result"
    }
   ],
   "source": [
    "a.dtype #数组的数据类型"
   ]
  },
  {
   "cell_type": "code",
   "execution_count": 17,
   "id": "ed326288",
   "metadata": {},
   "outputs": [
    {
     "data": {
      "text/plain": [
       "dtype('float64')"
      ]
     },
     "execution_count": 17,
     "metadata": {},
     "output_type": "execute_result"
    }
   ],
   "source": [
    "c.dtype"
   ]
  },
  {
   "cell_type": "code",
   "execution_count": 19,
   "id": "de4ae5ff",
   "metadata": {},
   "outputs": [
    {
     "data": {
      "text/plain": [
       "1"
      ]
     },
     "execution_count": 19,
     "metadata": {},
     "output_type": "execute_result"
    }
   ],
   "source": [
    "a.ndim #数组的维度"
   ]
  },
  {
   "cell_type": "code",
   "execution_count": 20,
   "id": "09e838c3",
   "metadata": {},
   "outputs": [
    {
     "data": {
      "text/plain": [
       "2"
      ]
     },
     "execution_count": 20,
     "metadata": {},
     "output_type": "execute_result"
    }
   ],
   "source": [
    "b.ndim  #二维数组的维度"
   ]
  },
  {
   "cell_type": "code",
   "execution_count": 22,
   "id": "67a99076",
   "metadata": {},
   "outputs": [
    {
     "data": {
      "text/plain": [
       "3"
      ]
     },
     "execution_count": 22,
     "metadata": {},
     "output_type": "execute_result"
    }
   ],
   "source": [
    "a.size #数组的元素个数"
   ]
  },
  {
   "cell_type": "code",
   "execution_count": 23,
   "id": "50e7e400",
   "metadata": {},
   "outputs": [
    {
     "data": {
      "text/plain": [
       "6"
      ]
     },
     "execution_count": 23,
     "metadata": {},
     "output_type": "execute_result"
    }
   ],
   "source": [
    "b.size #二维数组的元素个数"
   ]
  },
  {
   "cell_type": "markdown",
   "id": "948e2b2a",
   "metadata": {},
   "source": [
    "### 索引和切片"
   ]
  },
  {
   "cell_type": "code",
   "execution_count": 24,
   "id": "00f7d7ea",
   "metadata": {},
   "outputs": [
    {
     "data": {
      "text/plain": [
       "array([[10, 20, 30],\n",
       "       [40, 50, 60],\n",
       "       [70, 80, 90]])"
      ]
     },
     "execution_count": 24,
     "metadata": {},
     "output_type": "execute_result"
    }
   ],
   "source": [
    "x = np.array([[10, 20, 30], [40, 50, 60], [70, 80, 90]])\n",
    "x"
   ]
  },
  {
   "cell_type": "code",
   "execution_count": 25,
   "id": "af8ef7d1",
   "metadata": {},
   "outputs": [
    {
     "data": {
      "text/plain": [
       "array([10, 20, 30])"
      ]
     },
     "execution_count": 25,
     "metadata": {},
     "output_type": "execute_result"
    }
   ],
   "source": [
    "x [0] #第一行"
   ]
  },
  {
   "cell_type": "code",
   "execution_count": 26,
   "id": "a934ef1e",
   "metadata": {},
   "outputs": [
    {
     "data": {
      "text/plain": [
       "np.int64(20)"
      ]
     },
     "execution_count": 26,
     "metadata": {},
     "output_type": "execute_result"
    }
   ],
   "source": [
    "x[0,1] #第一行第二列"
   ]
  },
  {
   "cell_type": "code",
   "execution_count": null,
   "id": "f0cde095",
   "metadata": {},
   "outputs": [
    {
     "data": {
      "text/plain": [
       "array([[10, 20, 30],\n",
       "       [40, 50, 60]])"
      ]
     },
     "execution_count": 27,
     "metadata": {},
     "output_type": "execute_result"
    }
   ],
   "source": [
    "x[:2] #前两行"
   ]
  },
  {
   "cell_type": "code",
   "execution_count": null,
   "id": "f8e75750",
   "metadata": {},
   "outputs": [
    {
     "data": {
      "text/plain": [
       "array([[40, 50, 60],\n",
       "       [70, 80, 90]])"
      ]
     },
     "execution_count": 28,
     "metadata": {},
     "output_type": "execute_result"
    }
   ],
   "source": [
    "x[1:] #第二行及之后的所有行"
   ]
  },
  {
   "cell_type": "code",
   "execution_count": 31,
   "id": "3175ea48",
   "metadata": {},
   "outputs": [
    {
     "data": {
      "text/plain": [
       "array([[20, 30]])"
      ]
     },
     "execution_count": 31,
     "metadata": {},
     "output_type": "execute_result"
    }
   ],
   "source": [
    "x[0:1,1:3] #第一行，第二列到第三列"
   ]
  },
  {
   "cell_type": "code",
   "execution_count": 32,
   "id": "3bc12e01",
   "metadata": {},
   "outputs": [
    {
     "data": {
      "text/plain": [
       "array([60, 70, 80, 90])"
      ]
     },
     "execution_count": 32,
     "metadata": {},
     "output_type": "execute_result"
    }
   ],
   "source": [
    "x[x > 50] #所有大于50的元素"
   ]
  },
  {
   "cell_type": "code",
   "execution_count": null,
   "id": "5339347d",
   "metadata": {},
   "outputs": [
    {
     "data": {
      "text/plain": [
       "array([20, 90])"
      ]
     },
     "execution_count": 33,
     "metadata": {},
     "output_type": "execute_result"
    }
   ],
   "source": [
    "x[[0, 2], [1, 2]] #第一行第二列和第三行第三列的元素, 第一个列表是行索引，第二个列表是列索引"
   ]
  },
  {
   "cell_type": "code",
   "execution_count": 35,
   "id": "340a3995",
   "metadata": {},
   "outputs": [
    {
     "data": {
      "text/plain": [
       "array([20, 30])"
      ]
     },
     "execution_count": 35,
     "metadata": {},
     "output_type": "execute_result"
    }
   ],
   "source": [
    "x[[0, 0], [1, 2]]"
   ]
  },
  {
   "cell_type": "markdown",
   "id": "6dae1efc",
   "metadata": {},
   "source": [
    "### 数组运算"
   ]
  },
  {
   "cell_type": "code",
   "execution_count": 41,
   "id": "f5f416b6",
   "metadata": {},
   "outputs": [],
   "source": [
    "m = np.array([1, 2, 3])\n",
    "n = np.array([4, 5, 6])"
   ]
  },
  {
   "cell_type": "code",
   "execution_count": 44,
   "id": "ec33554c",
   "metadata": {},
   "outputs": [
    {
     "data": {
      "text/plain": [
       "array([5, 7, 9])"
      ]
     },
     "execution_count": 44,
     "metadata": {},
     "output_type": "execute_result"
    }
   ],
   "source": [
    "m + n #对应元素相加"
   ]
  },
  {
   "cell_type": "code",
   "execution_count": 42,
   "id": "e9d50940",
   "metadata": {},
   "outputs": [
    {
     "data": {
      "text/plain": [
       "array([-3, -3, -3])"
      ]
     },
     "execution_count": 42,
     "metadata": {},
     "output_type": "execute_result"
    }
   ],
   "source": [
    "m - n #数组减法"
   ]
  },
  {
   "cell_type": "code",
   "execution_count": 43,
   "id": "be9e4373",
   "metadata": {},
   "outputs": [
    {
     "data": {
      "text/plain": [
       "array([ 4, 10, 18])"
      ]
     },
     "execution_count": 43,
     "metadata": {},
     "output_type": "execute_result"
    }
   ],
   "source": [
    "m * n #对应元素相乘"
   ]
  },
  {
   "cell_type": "code",
   "execution_count": 45,
   "id": "d1e40eb3",
   "metadata": {},
   "outputs": [
    {
     "data": {
      "text/plain": [
       "array([0.25, 0.4 , 0.5 ])"
      ]
     },
     "execution_count": 45,
     "metadata": {},
     "output_type": "execute_result"
    }
   ],
   "source": [
    "m / n #对应元素相除"
   ]
  },
  {
   "cell_type": "code",
   "execution_count": 47,
   "id": "fe569040",
   "metadata": {},
   "outputs": [
    {
     "data": {
      "text/plain": [
       "np.int64(32)"
      ]
     },
     "execution_count": 47,
     "metadata": {},
     "output_type": "execute_result"
    }
   ],
   "source": [
    "m @ n #点积 1*4 + 2*5 + 3*6 = 32"
   ]
  },
  {
   "cell_type": "code",
   "execution_count": 48,
   "id": "935678d5",
   "metadata": {},
   "outputs": [
    {
     "data": {
      "text/plain": [
       "array([1, 4, 9])"
      ]
     },
     "execution_count": 48,
     "metadata": {},
     "output_type": "execute_result"
    }
   ],
   "source": [
    "m ** 2 #每个元素的平方"
   ]
  },
  {
   "cell_type": "code",
   "execution_count": 49,
   "id": "21dbf5fe",
   "metadata": {},
   "outputs": [
    {
     "data": {
      "text/plain": [
       "array([1.        , 1.41421356, 1.73205081])"
      ]
     },
     "execution_count": 49,
     "metadata": {},
     "output_type": "execute_result"
    }
   ],
   "source": [
    "np.sqrt(m) #每个元素的平方根"
   ]
  },
  {
   "cell_type": "markdown",
   "id": "23440454",
   "metadata": {},
   "source": [
    "### 统计"
   ]
  },
  {
   "cell_type": "code",
   "execution_count": 67,
   "id": "db650b68",
   "metadata": {},
   "outputs": [
    {
     "data": {
      "text/plain": [
       "array([[10, 20, 30],\n",
       "       [40, 50, 60],\n",
       "       [70, 80, 90]])"
      ]
     },
     "execution_count": 67,
     "metadata": {},
     "output_type": "execute_result"
    }
   ],
   "source": [
    "x = np.array([[10, 20, 30], [40, 50, 60], [70, 80, 90]])\n",
    "x"
   ]
  },
  {
   "cell_type": "code",
   "execution_count": 68,
   "id": "3ed88a5b",
   "metadata": {},
   "outputs": [
    {
     "data": {
      "text/plain": [
       "np.float64(50.0)"
      ]
     },
     "execution_count": 68,
     "metadata": {},
     "output_type": "execute_result"
    }
   ],
   "source": [
    "x.mean() #数组的均值"
   ]
  },
  {
   "cell_type": "code",
   "execution_count": 69,
   "id": "c76a6f2a",
   "metadata": {},
   "outputs": [
    {
     "data": {
      "text/plain": [
       "np.float64(50.0)"
      ]
     },
     "execution_count": 69,
     "metadata": {},
     "output_type": "execute_result"
    }
   ],
   "source": [
    "np.mean(x) #数组的均值"
   ]
  },
  {
   "cell_type": "code",
   "execution_count": 70,
   "id": "7212efae",
   "metadata": {},
   "outputs": [
    {
     "data": {
      "text/plain": [
       "np.int64(90)"
      ]
     },
     "execution_count": 70,
     "metadata": {},
     "output_type": "execute_result"
    }
   ],
   "source": [
    "x.max() #数组的最大值"
   ]
  },
  {
   "cell_type": "code",
   "execution_count": 71,
   "id": "edab01e8",
   "metadata": {},
   "outputs": [
    {
     "data": {
      "text/plain": [
       "np.int64(10)"
      ]
     },
     "execution_count": 71,
     "metadata": {},
     "output_type": "execute_result"
    }
   ],
   "source": [
    "x.min() #数组的最小值"
   ]
  },
  {
   "cell_type": "code",
   "execution_count": 72,
   "id": "3ec956c7",
   "metadata": {},
   "outputs": [
    {
     "data": {
      "text/plain": [
       "np.int64(450)"
      ]
     },
     "execution_count": 72,
     "metadata": {},
     "output_type": "execute_result"
    }
   ],
   "source": [
    "x.sum() #数组元素的和"
   ]
  },
  {
   "cell_type": "code",
   "execution_count": null,
   "id": "1d907e74",
   "metadata": {},
   "outputs": [
    {
     "ename": "AttributeError",
     "evalue": "'numpy.ndarray' object has no attribute 'median'",
     "output_type": "error",
     "traceback": [
      "\u001b[0;31m---------------------------------------------------------------------------\u001b[0m",
      "\u001b[0;31mAttributeError\u001b[0m                            Traceback (most recent call last)",
      "Cell \u001b[0;32mIn[75], line 1\u001b[0m\n\u001b[0;32m----> 1\u001b[0m \u001b[43mx\u001b[49m\u001b[38;5;241;43m.\u001b[39;49m\u001b[43mmedian\u001b[49m() \u001b[38;5;66;03m#数组的中位数\u001b[39;00m\n",
      "\u001b[0;31mAttributeError\u001b[0m: 'numpy.ndarray' object has no attribute 'median'"
     ]
    }
   ],
   "source": [
    "x.median() #数组的中位数 (错误，AttributeError: 'numpy.ndarray' object has no attribute 'median')"
   ]
  },
  {
   "cell_type": "code",
   "execution_count": 74,
   "id": "b9aaa1b7",
   "metadata": {},
   "outputs": [
    {
     "data": {
      "text/plain": [
       "np.float64(50.0)"
      ]
     },
     "execution_count": 74,
     "metadata": {},
     "output_type": "execute_result"
    }
   ],
   "source": [
    "np.median(x) #数组的中位数"
   ]
  },
  {
   "cell_type": "code",
   "execution_count": 76,
   "id": "c38c2ff0",
   "metadata": {},
   "outputs": [
    {
     "data": {
      "text/plain": [
       "np.float64(25.81988897471611)"
      ]
     },
     "execution_count": 76,
     "metadata": {},
     "output_type": "execute_result"
    }
   ],
   "source": [
    "np.std(x) #数组的标准差"
   ]
  },
  {
   "cell_type": "markdown",
   "id": "c038c513",
   "metadata": {},
   "source": [
    "### 矩阵运算"
   ]
  },
  {
   "cell_type": "code",
   "execution_count": 77,
   "id": "8553f2e3",
   "metadata": {},
   "outputs": [
    {
     "data": {
      "text/plain": [
       "array([[1, 2],\n",
       "       [3, 4]])"
      ]
     },
     "execution_count": 77,
     "metadata": {},
     "output_type": "execute_result"
    }
   ],
   "source": [
    "A = np.array([[1, 2], [3, 4]])\n",
    "A"
   ]
  },
  {
   "cell_type": "code",
   "execution_count": 78,
   "id": "cec2c3e4",
   "metadata": {},
   "outputs": [
    {
     "data": {
      "text/plain": [
       "array([[5, 6],\n",
       "       [7, 8]])"
      ]
     },
     "execution_count": 78,
     "metadata": {},
     "output_type": "execute_result"
    }
   ],
   "source": [
    "B = np.array([[5, 6], [7, 8]])\n",
    "B"
   ]
  },
  {
   "cell_type": "code",
   "execution_count": null,
   "id": "279b0130",
   "metadata": {},
   "outputs": [
    {
     "data": {
      "text/plain": [
       "array([[19, 22],\n",
       "       [43, 50]])"
      ]
     },
     "execution_count": 79,
     "metadata": {},
     "output_type": "execute_result"
    }
   ],
   "source": [
    "A @ B #矩阵乘法, A的列数必须等于B的行数,1*5+2*7=19, 1*6+2*8=22; 1*5+4*7=43, 1*6+4*8=50"
   ]
  },
  {
   "cell_type": "code",
   "execution_count": 80,
   "id": "26d8e319",
   "metadata": {},
   "outputs": [
    {
     "data": {
      "text/plain": [
       "array([[ 5, 12],\n",
       "       [21, 32]])"
      ]
     },
     "execution_count": 80,
     "metadata": {},
     "output_type": "execute_result"
    }
   ],
   "source": [
    "A * B #对应元素相乘"
   ]
  },
  {
   "cell_type": "code",
   "execution_count": 81,
   "id": "a383cd16",
   "metadata": {},
   "outputs": [
    {
     "data": {
      "text/plain": [
       "array([[19, 22],\n",
       "       [43, 50]])"
      ]
     },
     "execution_count": 81,
     "metadata": {},
     "output_type": "execute_result"
    }
   ],
   "source": [
    "np.dot(A, B) #矩阵乘法, 等同于 A @ B"
   ]
  },
  {
   "cell_type": "code",
   "execution_count": null,
   "id": "bf22a690",
   "metadata": {},
   "outputs": [
    {
     "data": {
      "text/plain": [
       "array([[-2, -3],\n",
       "       [-4, -5]])"
      ]
     },
     "execution_count": 82,
     "metadata": {},
     "output_type": "execute_result"
    }
   ],
   "source": [
    "# 如果 A 是布尔类型（dtype=bool），np.invert(A) 就是 逻辑取反（等价于 np.logical_not(A) 或 ~A）。\n",
    "# 如果 A 是整数类型（int），np.invert(A) 就是 按位取反（bitwise NOT），等价于 ~A。\n",
    "# 如果 A 是浮点数，NumPy 会报错，因为浮点数没有定义按位取反。\n",
    "np.invert(A) #矩阵求逆, A必须是方阵且行列式不为0 ,解释：~n = -(n+1)"
   ]
  },
  {
   "cell_type": "markdown",
   "id": "a9e3e90f",
   "metadata": {},
   "source": [
    "### 广播机制（Broadcasting）"
   ]
  },
  {
   "cell_type": "code",
   "execution_count": 9,
   "id": "7b2e05f3",
   "metadata": {},
   "outputs": [
    {
     "data": {
      "text/plain": [
       "(array([1, 2, 3]), 10, array([11, 12, 13]))"
      ]
     },
     "execution_count": 9,
     "metadata": {},
     "output_type": "execute_result"
    }
   ],
   "source": [
    "# 标量与数组运算\n",
    "a = np.array([1,2,3])\n",
    "b = 10\n",
    "c = a + b #广播机制, b会自动扩展为与a相同的形状，即[10,10,10]\n",
    "a, b, c"
   ]
  },
  {
   "cell_type": "code",
   "execution_count": null,
   "id": "889f94d4",
   "metadata": {},
   "outputs": [
    {
     "data": {
      "text/plain": [
       "(array([[1, 2, 3],\n",
       "        [4, 5, 6]]),\n",
       " array([10, 20, 30]),\n",
       " array([[11, 22, 33],\n",
       "        [14, 25, 36]]))"
      ]
     },
     "execution_count": 8,
     "metadata": {},
     "output_type": "execute_result"
    }
   ],
   "source": [
    "# 二维数组与一维数组运算\n",
    "M = np.array([[1,2,3],\n",
    "              [4,5,6]])\n",
    "v = np.array([10,20,30])\n",
    "result = M + v #广播机制，v会自动扩展为与M相同的形状，即[[10,20,30],[10,20,30]]\n",
    "M, v, result"
   ]
  },
  {
   "cell_type": "code",
   "execution_count": 7,
   "id": "148588fb",
   "metadata": {},
   "outputs": [
    {
     "data": {
      "text/plain": [
       "(array([[1.],\n",
       "        [1.],\n",
       "        [1.]]),\n",
       " array([1, 2, 3]),\n",
       " array([[2., 3., 4.],\n",
       "        [2., 3., 4.],\n",
       "        [2., 3., 4.]]))"
      ]
     },
     "execution_count": 7,
     "metadata": {},
     "output_type": "execute_result"
    }
   ],
   "source": [
    "# 不同维度广播\n",
    "A = np.ones((3,1))\n",
    "B = np.array([1,2,3])\n",
    "C = A + B #A会扩展为[[1,1,1],[1,1,1],[1,1,1]], B会扩展为[[1,2,3],[1,2,3],[1,2,3]]\n",
    "A, B, C"
   ]
  }
 ],
 "metadata": {
  "kernelspec": {
   "display_name": "3.10.13",
   "language": "python",
   "name": "python3"
  },
  "language_info": {
   "codemirror_mode": {
    "name": "ipython",
    "version": 3
   },
   "file_extension": ".py",
   "mimetype": "text/x-python",
   "name": "python",
   "nbconvert_exporter": "python",
   "pygments_lexer": "ipython3",
   "version": "3.10.13"
  }
 },
 "nbformat": 4,
 "nbformat_minor": 5
}
