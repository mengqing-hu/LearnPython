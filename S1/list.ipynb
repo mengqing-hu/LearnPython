{
 "cells": [
  {
   "cell_type": "markdown",
   "id": "ce479e6a",
   "metadata": {},
   "source": [
    "## 1. 创建列表"
   ]
  },
  {
   "cell_type": "code",
   "execution_count": null,
   "id": "898c4c38",
   "metadata": {},
   "outputs": [],
   "source": [
    "a = [1,2,3]  # 使用方括号创建列表\n",
    "b = list((4,5,6))   # 使用list()函数创建列表\n",
    "c = []  # 创建空列表\n",
    "d = list()  # 使用list()函数创建空列表\n",
    "e = [1, \"hello\", 3.14, True]  # 列表可以包含不同类型的元素\n",
    "f = [1, 2, [3, 4], 5]  # 列表可以包含嵌套列表\n",
    "g = list(range(5))  # 使用range()函数创建列表， range() 本身不是列表，而是一个可迭代对象（节省内存）。"
   ]
  },
  {
   "cell_type": "code",
   "execution_count": 9,
   "id": "3cafe59e",
   "metadata": {},
   "outputs": [
    {
     "name": "stdout",
     "output_type": "stream",
     "text": [
      "[1, 2, 3]\n"
     ]
    }
   ],
   "source": [
    "print(a)      # 输出: [1, 2, 3]"
   ]
  },
  {
   "cell_type": "code",
   "execution_count": 10,
   "id": "8887c6fb",
   "metadata": {},
   "outputs": [
    {
     "name": "stdout",
     "output_type": "stream",
     "text": [
      "[4, 5, 6]\n"
     ]
    }
   ],
   "source": [
    "print(b)    # 输出: [4, 5, 6]"
   ]
  },
  {
   "cell_type": "code",
   "execution_count": null,
   "id": "5ad1f54c",
   "metadata": {},
   "outputs": [
    {
     "name": "stdout",
     "output_type": "stream",
     "text": [
      "[]\n"
     ]
    }
   ],
   "source": [
    "print(c)    # 输出: []"
   ]
  },
  {
   "cell_type": "code",
   "execution_count": 12,
   "id": "21ae6c29",
   "metadata": {},
   "outputs": [
    {
     "name": "stdout",
     "output_type": "stream",
     "text": [
      "[]\n"
     ]
    }
   ],
   "source": [
    "print(d)    # 输出: []"
   ]
  },
  {
   "cell_type": "code",
   "execution_count": 13,
   "id": "704fd755",
   "metadata": {},
   "outputs": [
    {
     "name": "stdout",
     "output_type": "stream",
     "text": [
      "[1, 'hello', 3.14, True]\n"
     ]
    }
   ],
   "source": [
    "print(e)    # 输出: [1, 'hello', 3.14, True]"
   ]
  },
  {
   "cell_type": "code",
   "execution_count": 14,
   "id": "60fd45fb",
   "metadata": {},
   "outputs": [
    {
     "name": "stdout",
     "output_type": "stream",
     "text": [
      "[1, 2, [3, 4], 5]\n"
     ]
    }
   ],
   "source": [
    "print(f)    # 输出: [1, 2, [3, 4], 5]"
   ]
  },
  {
   "cell_type": "code",
   "execution_count": null,
   "id": "d4a077b4",
   "metadata": {},
   "outputs": [
    {
     "name": "stdout",
     "output_type": "stream",
     "text": [
      "[0, 1, 2, 3, 4]\n"
     ]
    }
   ],
   "source": [
    "print(g)    # 输出: [0, 1, 2, 3, 4]"
   ]
  },
  {
   "cell_type": "code",
   "execution_count": 19,
   "id": "06122302",
   "metadata": {},
   "outputs": [],
   "source": [
    "h = [0] * 5  # 创建包含5个零的列表\n",
    "i = [x for x in range(5)]  # 使用列表推导式创建列表\n",
    "j = list(\"hello\")  # 将字符串转换为列表\n",
    "k = [1, 2, 3] + [4, 5]  # 使用加号连接两个列表\n",
    "l = [1, 2, 3] * 2  # 使用乘号重复列表\n",
    "m = list({1, 2, 3})  # 将集合转换\n",
    "n = list({\"a\": 1, \"b\": 2})  # 将字典的键转换为列表"
   ]
  },
  {
   "cell_type": "code",
   "execution_count": 17,
   "id": "fd49e35c",
   "metadata": {},
   "outputs": [
    {
     "name": "stdout",
     "output_type": "stream",
     "text": [
      "[0, 0, 0, 0, 0]\n"
     ]
    }
   ],
   "source": [
    "print(h)    # 输出: [0, 0, 0, 0, 0]"
   ]
  },
  {
   "cell_type": "code",
   "execution_count": 16,
   "id": "3d836ed0",
   "metadata": {},
   "outputs": [
    {
     "name": "stdout",
     "output_type": "stream",
     "text": [
      "[0, 1, 2, 3, 4]\n"
     ]
    }
   ],
   "source": [
    "print(i)    # 输出: [0, 1, 2, 3, 4]"
   ]
  },
  {
   "cell_type": "code",
   "execution_count": 18,
   "id": "853a07cc",
   "metadata": {},
   "outputs": [
    {
     "name": "stdout",
     "output_type": "stream",
     "text": [
      "['h', 'e', 'l', 'l', 'o']\n"
     ]
    }
   ],
   "source": [
    "print(j)    # 输出: ['h', 'e', 'l', 'l', 'o']"
   ]
  },
  {
   "cell_type": "code",
   "execution_count": 21,
   "id": "8cccd190",
   "metadata": {},
   "outputs": [
    {
     "name": "stdout",
     "output_type": "stream",
     "text": [
      "[1, 2, 3, 4, 5]\n"
     ]
    }
   ],
   "source": [
    "print(k)    # 输出: [1, 2, 3, 4, 5]"
   ]
  },
  {
   "cell_type": "code",
   "execution_count": 22,
   "id": "430c7905",
   "metadata": {},
   "outputs": [
    {
     "name": "stdout",
     "output_type": "stream",
     "text": [
      "[1, 2, 3, 1, 2, 3]\n"
     ]
    }
   ],
   "source": [
    "print(l)    # 输出: [1, 2, 3, 1, 2, 3]"
   ]
  },
  {
   "cell_type": "code",
   "execution_count": 23,
   "id": "b24698a6",
   "metadata": {},
   "outputs": [
    {
     "name": "stdout",
     "output_type": "stream",
     "text": [
      "[1, 2, 3]\n"
     ]
    }
   ],
   "source": [
    "print(m)    # 输出: [1, 2, 3] (顺序可能不同)"
   ]
  },
  {
   "cell_type": "code",
   "execution_count": 25,
   "id": "4a100680",
   "metadata": {},
   "outputs": [
    {
     "name": "stdout",
     "output_type": "stream",
     "text": [
      "['a', 'b']\n"
     ]
    }
   ],
   "source": [
    "print(n)    # 输出: ['a', 'b'] (顺序可能不同)为列表"
   ]
  },
  {
   "cell_type": "markdown",
   "id": "04ba5255",
   "metadata": {},
   "source": [
    "### 1.1 一些问题"
   ]
  },
  {
   "cell_type": "markdown",
   "id": "0e3452bf",
   "metadata": {},
   "source": [
    "常见能放进 list() 的对象\n",
    "- 字符串: 字符串是可迭代的，每个字符都会拆成一个列表元素：\n",
    "list(\"hello\")  \n",
    "['h', 'e', 'l', 'l', 'o']\n",
    "\n",
    "- 元组\n",
    "list((1, 2, 3))  \n",
    "[1, 2, 3]\n",
    "\n",
    "- 列表（复制一个新列表）\n",
    "list([4, 5, 6])  \n",
    "[4, 5, 6]\n",
    "- range 对象\n",
    "list(range(5))  \n",
    "[0, 1, 2, 3, 4]\n",
    "\n",
    "- 集合（set） / 冻结集合（frozenset）\n",
    "list({7, 8, 9})  \n",
    "[7, 8, 9] （顺序不固定）\n",
    "\n",
    "- 字典（dict）\n",
    "- 1. 字典默认迭代 键 key：\n",
    "list({\"a\":1, \"b\":2})  \n",
    "['a', 'b']\n",
    "\n",
    "- 2. 如果想要值或键值对：\n",
    "list({\"a\":1, \"b\":2}.values())   # [1, 2]\n",
    "list({\"a\":1, \"b\":2}.items())    # [('a',1), ('b',2)]"
   ]
  },
  {
   "cell_type": "code",
   "execution_count": 69,
   "id": "54831108",
   "metadata": {},
   "outputs": [
    {
     "ename": "SyntaxError",
     "evalue": "invalid decimal literal (3667335751.py, line 1)",
     "output_type": "error",
     "traceback": [
      "\u001b[0;36m  Cell \u001b[0;32mIn[69], line 1\u001b[0;36m\u001b[0m\n\u001b[0;31m    wrong = list(12）  # 错误示范，list() 只能接受一个可迭代对象作为参数\u001b[0m\n\u001b[0m                  ^\u001b[0m\n\u001b[0;31mSyntaxError\u001b[0m\u001b[0;31m:\u001b[0m invalid decimal literal\n"
     ]
    }
   ],
   "source": [
    "wrong = list(12）  # 错误示范，list() 只能接受一个可迭代对象作为参数"
   ]
  },
  {
   "cell_type": "markdown",
   "id": "51147061",
   "metadata": {},
   "source": [
    "## 2. 访问与切片"
   ]
  },
  {
   "cell_type": "code",
   "execution_count": 26,
   "id": "97ce50f5",
   "metadata": {},
   "outputs": [
    {
     "name": "stdout",
     "output_type": "stream",
     "text": [
      "10\n",
      "50\n",
      "[20, 30, 40]\n",
      "[10, 20, 30]\n",
      "[30, 40, 50]\n",
      "[10, 20, 30, 40, 50]\n",
      "[10, 30, 50]\n",
      "[50, 40, 30, 20, 10]\n"
     ]
    }
   ],
   "source": [
    "nums = [10, 20, 30, 40, 50]\n",
    "\n",
    "print(nums[0])    # 输出: 10 (访问第一个元素)\n",
    "print(nums[-1])   # 输出: 50 (访问最后一个元素)\n",
    "print(nums[1:4])  # 输出: [20, 30, 40] (切片获取索引1到3的元素)\n",
    "print(nums[:3])   # 输出: [10, 20, 30] (切片获取前3个元素)\n",
    "print(nums[2:])   # 输出: [30, 40, 50] (切片获取从索引2到末尾的元素)\n",
    "print(nums[:])    # 输出: [10, 20, 30, 40, 50] (获取整个列表)\n",
    "print(nums[::2])  # 输出: [10, 30, 50] (步长为2的切片)\n",
    "print(nums[::-1]) # 输出: [50, 40, 30, 20, 10] (反转列表)\n"
   ]
  },
  {
   "cell_type": "markdown",
   "id": "cdb4676c",
   "metadata": {},
   "source": [
    "## 3. 列表操作符"
   ]
  },
  {
   "cell_type": "code",
   "execution_count": null,
   "id": "93ff33bf",
   "metadata": {},
   "outputs": [
    {
     "name": "stdout",
     "output_type": "stream",
     "text": [
      "[1, 2, 3, 4, 5, 6]\n",
      "[1, 2, 3, 1, 2, 3]\n"
     ]
    }
   ],
   "source": [
    "list1 = [1, 2, 3]\n",
    "list2 = [4, 5, 6]\n",
    "\n",
    "list3 = list1 + list2  # 使用加号连接两个列表, 输出: [1, 2, 3, 4, 5, 6]\n",
    "list4 = list1 * 2      # 使用乘号重复列表, 输出: [1, 2, 3, 1, 2, 3]\n",
    "\n",
    "print(list3)  # 输出: [1, 2, 3, 4, 5, 6]\n",
    "print(list4)  # 输出: [1, 2, 3, 1, 2, 3]"
   ]
  },
  {
   "cell_type": "code",
   "execution_count": 40,
   "id": "8ca90d20",
   "metadata": {},
   "outputs": [
    {
     "name": "stdout",
     "output_type": "stream",
     "text": [
      "False\n",
      "True\n"
     ]
    }
   ],
   "source": [
    "print(0 in list1)    # 输出: False (检查元素是否在列表中)\n",
    "print(4 not in list1) # 输出: True (检查元素是否不在列表中)"
   ]
  },
  {
   "cell_type": "code",
   "execution_count": 41,
   "id": "826d420e",
   "metadata": {},
   "outputs": [
    {
     "data": {
      "text/plain": [
       "6"
      ]
     },
     "execution_count": 41,
     "metadata": {},
     "output_type": "execute_result"
    }
   ],
   "source": [
    "len(list1)    # 输出: 3 (列表长度)\n",
    "min(list1)    # 输出: 1 (列表中的最小值)\n",
    "max(list1)    # 输出: 3 (列表中的最大值)\n",
    "sum(list1)    # 输出: 6 (列表元素的和)"
   ]
  },
  {
   "cell_type": "markdown",
   "id": "310adecd",
   "metadata": {},
   "source": [
    "## 4. 增删改查方法"
   ]
  },
  {
   "cell_type": "markdown",
   "id": "0efe1f22",
   "metadata": {},
   "source": [
    "### 4.1 添加"
   ]
  },
  {
   "cell_type": "code",
   "execution_count": 42,
   "id": "8feaae24",
   "metadata": {},
   "outputs": [
    {
     "data": {
      "text/plain": [
       "[10, 20, 30]"
      ]
     },
     "execution_count": 42,
     "metadata": {},
     "output_type": "execute_result"
    }
   ],
   "source": [
    "m = [10, 20, 30]\n",
    "m"
   ]
  },
  {
   "cell_type": "code",
   "execution_count": 43,
   "id": "53e60fa8",
   "metadata": {},
   "outputs": [
    {
     "data": {
      "text/plain": [
       "[10, 20, 30, 40]"
      ]
     },
     "execution_count": 43,
     "metadata": {},
     "output_type": "execute_result"
    }
   ],
   "source": [
    "m.append(40)  # 在列表末尾添加元素40\n",
    "m"
   ]
  },
  {
   "cell_type": "code",
   "execution_count": 44,
   "id": "d26c18e5",
   "metadata": {},
   "outputs": [
    {
     "data": {
      "text/plain": [
       "[10, 20, 30, 40, 50, 60]"
      ]
     },
     "execution_count": 44,
     "metadata": {},
     "output_type": "execute_result"
    }
   ],
   "source": [
    "m.extend([50, 60])  # 扩展列表，添加多个元素\n",
    "m"
   ]
  },
  {
   "cell_type": "code",
   "execution_count": 45,
   "id": "d2d211d4",
   "metadata": {},
   "outputs": [
    {
     "data": {
      "text/plain": [
       "[10, 15, 20, 30, 40, 50, 60]"
      ]
     },
     "execution_count": 45,
     "metadata": {},
     "output_type": "execute_result"
    }
   ],
   "source": [
    "m.insert(1, 15)  # 在索引1位置插入元素15\n",
    "m"
   ]
  },
  {
   "cell_type": "markdown",
   "id": "03b455d9",
   "metadata": {},
   "source": [
    "### 4.2 删除"
   ]
  },
  {
   "cell_type": "code",
   "execution_count": 60,
   "id": "5f737905",
   "metadata": {},
   "outputs": [
    {
     "data": {
      "text/plain": [
       "[10, 20, 30, 40, 50, 30]"
      ]
     },
     "execution_count": 60,
     "metadata": {},
     "output_type": "execute_result"
    }
   ],
   "source": [
    "n = list([10, 20, 30, 40, 50, 30])\n",
    "n"
   ]
  },
  {
   "cell_type": "code",
   "execution_count": 61,
   "id": "b7cc7846",
   "metadata": {},
   "outputs": [
    {
     "data": {
      "text/plain": [
       "[10, 20, 40, 50, 30]"
      ]
     },
     "execution_count": 61,
     "metadata": {},
     "output_type": "execute_result"
    }
   ],
   "source": [
    "n.remove(30)  # 删除列表中第一个出现的元素30\n",
    "n"
   ]
  },
  {
   "cell_type": "code",
   "execution_count": 62,
   "id": "5da01f66",
   "metadata": {},
   "outputs": [
    {
     "data": {
      "text/plain": [
       "[10, 20, 40, 50]"
      ]
     },
     "execution_count": 62,
     "metadata": {},
     "output_type": "execute_result"
    }
   ],
   "source": [
    "n.pop()  # 删除并返回列表的最后一个元素\n",
    "n"
   ]
  },
  {
   "cell_type": "code",
   "execution_count": 63,
   "id": "c6cf68c8",
   "metadata": {},
   "outputs": [
    {
     "data": {
      "text/plain": [
       "[10, 40, 50]"
      ]
     },
     "execution_count": 63,
     "metadata": {},
     "output_type": "execute_result"
    }
   ],
   "source": [
    "n.pop(1)  # 删除并返回索引1位置的元素\n",
    "n"
   ]
  },
  {
   "cell_type": "code",
   "execution_count": 64,
   "id": "a03c6bfd",
   "metadata": {},
   "outputs": [
    {
     "data": {
      "text/plain": [
       "[]"
      ]
     },
     "execution_count": 64,
     "metadata": {},
     "output_type": "execute_result"
    }
   ],
   "source": [
    "n.clear()  # 清空列表\n",
    "n"
   ]
  },
  {
   "cell_type": "markdown",
   "id": "8fe7bb9c",
   "metadata": {},
   "source": [
    "### 4.3 修改"
   ]
  },
  {
   "cell_type": "code",
   "execution_count": 65,
   "id": "9e63c3f6",
   "metadata": {},
   "outputs": [
    {
     "data": {
      "text/plain": [
       "[10, 20, 30, 40, 50]"
      ]
     },
     "execution_count": 65,
     "metadata": {},
     "output_type": "execute_result"
    }
   ],
   "source": [
    "x = [10, 20, 30, 40, 50]\n",
    "x"
   ]
  },
  {
   "cell_type": "code",
   "execution_count": 66,
   "id": "20e3cde0",
   "metadata": {},
   "outputs": [
    {
     "data": {
      "text/plain": [
       "[10, 25, 30, 40, 50]"
      ]
     },
     "execution_count": 66,
     "metadata": {},
     "output_type": "execute_result"
    }
   ],
   "source": [
    "x[1] = 25  # 修改索引1位置的元素为25\n",
    "x"
   ]
  },
  {
   "cell_type": "code",
   "execution_count": 67,
   "id": "c8772ba8",
   "metadata": {},
   "outputs": [
    {
     "data": {
      "text/plain": [
       "[10, 21, 22, 23, 50]"
      ]
     },
     "execution_count": 67,
     "metadata": {},
     "output_type": "execute_result"
    }
   ],
   "source": [
    "x[1:4] = [21, 22, 23]  # 修改索引1到3位置的元素\n",
    "x"
   ]
  },
  {
   "cell_type": "code",
   "execution_count": 68,
   "id": "66f8c471",
   "metadata": {},
   "outputs": [
    {
     "data": {
      "text/plain": [
       "[0, 21, 0, 23, 0]"
      ]
     },
     "execution_count": 68,
     "metadata": {},
     "output_type": "execute_result"
    }
   ],
   "source": [
    "x[::2] = [0, 0, 0]  # 修改步长为2的元素\n",
    "x"
   ]
  },
  {
   "cell_type": "markdown",
   "id": "898f5599",
   "metadata": {},
   "source": [
    "### 4.4 查找\n",
    "- 单个位置 → index()\n",
    "- 数量 → count()\n",
    "- 是否存在 → in / not in\n",
    "- 所有位置 → 遍历 + enumerate()\n",
    "- 条件查找 → 推导式、next()、filter()\n",
    "- 最大/最小 → max() / min()"
   ]
  },
  {
   "cell_type": "code",
   "execution_count": 70,
   "id": "5242a141",
   "metadata": {},
   "outputs": [
    {
     "data": {
      "text/plain": [
       "[10, 20, 30, 40, 50, 30]"
      ]
     },
     "execution_count": 70,
     "metadata": {},
     "output_type": "execute_result"
    }
   ],
   "source": [
    "y = [10, 20, 30, 40, 50, 30]\n",
    "y"
   ]
  },
  {
   "cell_type": "code",
   "execution_count": 74,
   "id": "92d0cf7a",
   "metadata": {},
   "outputs": [
    {
     "data": {
      "text/plain": [
       "3"
      ]
     },
     "execution_count": 74,
     "metadata": {},
     "output_type": "execute_result"
    }
   ],
   "source": [
    "y.index(40)  # 查找元素30的第一个索引位置"
   ]
  },
  {
   "cell_type": "code",
   "execution_count": 73,
   "id": "845c5f35",
   "metadata": {},
   "outputs": [
    {
     "data": {
      "text/plain": [
       "2"
      ]
     },
     "execution_count": 73,
     "metadata": {},
     "output_type": "execute_result"
    }
   ],
   "source": [
    "y.count(30)  # 统计元素30在列表中出现的次数"
   ]
  },
  {
   "cell_type": "code",
   "execution_count": 79,
   "id": "59d01db0",
   "metadata": {},
   "outputs": [
    {
     "data": {
      "text/plain": [
       "[30, 40, 50, 30]"
      ]
     },
     "execution_count": 79,
     "metadata": {},
     "output_type": "execute_result"
    }
   ],
   "source": [
    "list(filter(lambda v : v > 25, y))  # 使用filter和lambda表达式过滤列表中大于25的元素"
   ]
  },
  {
   "cell_type": "markdown",
   "id": "31a0cadc",
   "metadata": {},
   "source": [
    "## 5. 排序与反转"
   ]
  },
  {
   "cell_type": "code",
   "execution_count": 82,
   "id": "731d3d6e",
   "metadata": {},
   "outputs": [
    {
     "data": {
      "text/plain": [
       "[70, 20, 30, 20, 50]"
      ]
     },
     "execution_count": 82,
     "metadata": {},
     "output_type": "execute_result"
    }
   ],
   "source": [
    "numbers = [70, 20, 30, 20, 50]\n",
    "numbers"
   ]
  },
  {
   "cell_type": "code",
   "execution_count": 84,
   "id": "eca5524f",
   "metadata": {},
   "outputs": [
    {
     "data": {
      "text/plain": [
       "[20, 20, 30, 50, 70]"
      ]
     },
     "execution_count": 84,
     "metadata": {},
     "output_type": "execute_result"
    }
   ],
   "source": [
    "numbers.sort()  # 对列表进行升序排序\n",
    "numbers"
   ]
  },
  {
   "cell_type": "code",
   "execution_count": 85,
   "id": "9332a160",
   "metadata": {},
   "outputs": [
    {
     "data": {
      "text/plain": [
       "[70, 50, 30, 20, 20]"
      ]
     },
     "execution_count": 85,
     "metadata": {},
     "output_type": "execute_result"
    }
   ],
   "source": [
    "numbers.sort(reverse = True)  # 对列表进行降序排序\n",
    "numbers"
   ]
  },
  {
   "cell_type": "code",
   "execution_count": 89,
   "id": "3740c0e4",
   "metadata": {},
   "outputs": [
    {
     "data": {
      "text/plain": [
       "[20, 20, 30, 50, 70]"
      ]
     },
     "execution_count": 89,
     "metadata": {},
     "output_type": "execute_result"
    }
   ],
   "source": [
    "sorted(numbers)  # 使用sorted()函数返回一个新的排序列表，原列表不变"
   ]
  },
  {
   "cell_type": "code",
   "execution_count": 113,
   "id": "a492b831",
   "metadata": {},
   "outputs": [
    {
     "name": "stdout",
     "output_type": "stream",
     "text": [
      "[70, 50, 30, 20, 20]\n",
      "[20, 20, 30, 50, 70]\n",
      "[70, 50, 30, 20, 20]\n",
      "[20, 20, 30, 50, 70]\n"
     ]
    }
   ],
   "source": [
    "print(numbers)\n",
    "numbers.reverse()  # 使用reverse()方法原地反转列表\n",
    "print(numbers)\n",
    "print(list(reversed(numbers)))  # 使用reversed()函数返回一个反转的迭代器，并转换为列表\n",
    "print(numbers)"
   ]
  },
  {
   "cell_type": "code",
   "execution_count": 114,
   "id": "af146aa6",
   "metadata": {},
   "outputs": [
    {
     "data": {
      "text/plain": [
       "[70, 50, 30, 20, 20]"
      ]
     },
     "execution_count": 114,
     "metadata": {},
     "output_type": "execute_result"
    }
   ],
   "source": [
    "numbers[::-1]   # 使用切片语法反转列表，返回一个新的反转列表，原列表不变    "
   ]
  },
  {
   "cell_type": "markdown",
   "id": "afb0213c",
   "metadata": {},
   "source": [
    "## 6. 遍历列表"
   ]
  },
  {
   "cell_type": "code",
   "execution_count": 116,
   "id": "63138861",
   "metadata": {},
   "outputs": [
    {
     "name": "stdout",
     "output_type": "stream",
     "text": [
      "a\n",
      "b\n",
      "c\n"
     ]
    }
   ],
   "source": [
    "lst1 = ['a', 'b', 'c']\n",
    "for item in li:\n",
    "    print(item)"
   ]
  },
  {
   "cell_type": "code",
   "execution_count": 119,
   "id": "3c7c25f2",
   "metadata": {},
   "outputs": [
    {
     "name": "stdout",
     "output_type": "stream",
     "text": [
      "Index: 0, Value: 1\n",
      "Index: 1, Value: 2\n",
      "Index: 2, Value: 3\n",
      "Index: 3, Value: 4\n",
      "Index: 4, Value: 5\n"
     ]
    }
   ],
   "source": [
    "lst2 = [1, 2, 3, 4, 5]\n",
    "for index, value in enumerate(lst2):\n",
    "    print(f\"Index: {index}, Value: {value}\")   "
   ]
  },
  {
   "cell_type": "markdown",
   "id": "04103b84",
   "metadata": {},
   "source": [
    "## 7. 列表推导式"
   ]
  },
  {
   "cell_type": "code",
   "execution_count": 120,
   "id": "48b6bbb4",
   "metadata": {},
   "outputs": [
    {
     "data": {
      "text/plain": [
       "[0, 1, 4, 9]"
      ]
     },
     "execution_count": 120,
     "metadata": {},
     "output_type": "execute_result"
    }
   ],
   "source": [
    "squares = [x**2 for x in range(0,4)]    \n",
    "squares"
   ]
  },
  {
   "cell_type": "code",
   "execution_count": 121,
   "id": "d6b01beb",
   "metadata": {},
   "outputs": [
    {
     "data": {
      "text/plain": [
       "[0, 2, 4, 6, 8]"
      ]
     },
     "execution_count": 121,
     "metadata": {},
     "output_type": "execute_result"
    }
   ],
   "source": [
    "evens =[x for x in range(10) if x%2 == 0]\n",
    "evens"
   ]
  },
  {
   "cell_type": "markdown",
   "id": "cf213613",
   "metadata": {},
   "source": [
    "## 8. 嵌套列表（二/多维）"
   ]
  },
  {
   "cell_type": "code",
   "execution_count": 132,
   "id": "7ca77c2d",
   "metadata": {},
   "outputs": [
    {
     "data": {
      "text/plain": [
       "[[1, 2, 3], [4, 5, 6], [7, 8, 9]]"
      ]
     },
     "execution_count": 132,
     "metadata": {},
     "output_type": "execute_result"
    }
   ],
   "source": [
    "matrix = [[1, 2, 3],\n",
    "         [4, 5, 6],\n",
    "         [7, 8, 9]] # 创建一个3x3的嵌套列表（矩阵）\n",
    "matrix"
   ]
  },
  {
   "cell_type": "code",
   "execution_count": null,
   "id": "635471e9",
   "metadata": {},
   "outputs": [
    {
     "data": {
      "text/plain": [
       "6"
      ]
     },
     "execution_count": 130,
     "metadata": {},
     "output_type": "execute_result"
    }
   ],
   "source": [
    "matrix"
   ]
  },
  {
   "cell_type": "code",
   "execution_count": 133,
   "id": "3b2a8428",
   "metadata": {},
   "outputs": [
    {
     "data": {
      "text/plain": [
       "[1, 2, 3]"
      ]
     },
     "execution_count": 133,
     "metadata": {},
     "output_type": "execute_result"
    }
   ],
   "source": [
    "matrix[0]"
   ]
  },
  {
   "cell_type": "code",
   "execution_count": 134,
   "id": "fb3b84e1",
   "metadata": {},
   "outputs": [
    {
     "data": {
      "text/plain": [
       "2"
      ]
     },
     "execution_count": 134,
     "metadata": {},
     "output_type": "execute_result"
    }
   ],
   "source": [
    "matrix[0][1]"
   ]
  },
  {
   "cell_type": "code",
   "execution_count": 135,
   "id": "724d43ba",
   "metadata": {},
   "outputs": [
    {
     "data": {
      "text/plain": [
       "[[1, 2, 3], [4, 5, 6]]"
      ]
     },
     "execution_count": 135,
     "metadata": {},
     "output_type": "execute_result"
    }
   ],
   "source": [
    "matrix[0:2]"
   ]
  },
  {
   "cell_type": "code",
   "execution_count": 136,
   "id": "af76118b",
   "metadata": {},
   "outputs": [
    {
     "name": "stdout",
     "output_type": "stream",
     "text": [
      "[1, 2, 3]\n",
      "[4, 5, 6]\n",
      "[7, 8, 9]\n"
     ]
    }
   ],
   "source": [
    "for row in matrix:\n",
    "    print(row)"
   ]
  },
  {
   "cell_type": "markdown",
   "id": "4bfccb65",
   "metadata": {},
   "source": [
    "## 9. 拷贝（复制）\n",
    "\n",
    "- 只有引用赋值会输出相同的内存地址。\n",
    "- 浅拷贝（如 a.copy() 或 list(a)）和深拷贝（如 copy.deepcopy(a)) 都会创建新的对象，因此它们的内存地址不同。"
   ]
  },
  {
   "cell_type": "code",
   "execution_count": 169,
   "id": "576c5bb1",
   "metadata": {},
   "outputs": [
    {
     "name": "stdout",
     "output_type": "stream",
     "text": [
      "4415336832\n",
      "4415336832\n",
      "[99, 2, 3]\n",
      "[99, 2, 3]\n",
      "[99, 2, 3]\n",
      "100\n"
     ]
    }
   ],
   "source": [
    "\n",
    "a = [1, 2, 3]\n",
    "b = a  # 直接赋值，a和b引用同一个列表对象，既不是深拷贝，也不是浅拷贝，b 和 a 指向同一个对象，在这种情况下，a 和 b 是同一个列表的两个名字，修改其中一个会影响另一个。\n",
    "\n",
    "print(id(a))\n",
    "print(id(b))  # 输出相同的内存地址\n",
    "\n",
    "b[0] = 99   \n",
    "print(a)\n",
    "print(b)  # 输出: [99, 2, 3]，a也受影响\n",
    "\n",
    "b = 100  # b 被重新赋值为整数 100，此时 b 不再指向原列表\n",
    "print(a)  # 输出: [1, 2, 3]，a 不受影响\n",
    "print(b)  # 输出: 100，b 已经指向新的对象"
   ]
  },
  {
   "cell_type": "code",
   "execution_count": 170,
   "id": "7e548b19",
   "metadata": {},
   "outputs": [
    {
     "name": "stdout",
     "output_type": "stream",
     "text": [
      "4415235712\n",
      "4415233984\n",
      "[99, 2, 3]\n",
      "[1, 2, 3]\n"
     ]
    }
   ],
   "source": [
    "# 浅拷贝: copy()\n",
    "a = [1, 2, 3]\n",
    "b = a.copy()  # 使用copy()方法创建列表的浅拷贝，a和b引用不同的列表对象\n",
    "\n",
    "print(id(a))\n",
    "print(id(b))  # 输出不同的内存地址\n",
    "\n",
    "a[0] = 99  # 修改a\n",
    "print(a)  # 输出: 99\n",
    "print(b)  # 输出: [1, 2, 3]，b不受影响"
   ]
  },
  {
   "cell_type": "code",
   "execution_count": 168,
   "id": "86882871",
   "metadata": {},
   "outputs": [
    {
     "name": "stdout",
     "output_type": "stream",
     "text": [
      "4418995008\n",
      "4415280640\n",
      "[99, 2, 3]\n",
      "[1, 2, 3]\n"
     ]
    }
   ],
   "source": [
    "import copy\n",
    "\n",
    "a = [1, 2, 3]\n",
    "b = copy.deepcopy(a)  # 深拷贝\n",
    "\n",
    "print(id(a))\n",
    "print(id(b))  # 输出不同的内存地址\n",
    "\n",
    "a[0] = 99\n",
    "\n",
    "print(a)\n",
    "print(b)"
   ]
  },
  {
   "cell_type": "code",
   "execution_count": null,
   "id": "aa73ca2b",
   "metadata": {},
   "outputs": [
    {
     "name": "stdout",
     "output_type": "stream",
     "text": [
      "4415235712\n",
      "4415319488\n",
      "[99, 2, 3]\n",
      "[1, 2, 3]\n"
     ]
    }
   ],
   "source": [
    "a = [1, 2, 3]\n",
    "b = list(a)  # 浅拷贝\n",
    "\n",
    "print(id(a))\n",
    "print(id(b))  # 输出不同的内存地址\n",
    "\n",
    "a[0] = 99  \n",
    "print(a)\n",
    "print(b)"
   ]
  }
 ],
 "metadata": {
  "kernelspec": {
   "display_name": "3.10.13",
   "language": "python",
   "name": "python3"
  },
  "language_info": {
   "codemirror_mode": {
    "name": "ipython",
    "version": 3
   },
   "file_extension": ".py",
   "mimetype": "text/x-python",
   "name": "python",
   "nbconvert_exporter": "python",
   "pygments_lexer": "ipython3",
   "version": "3.10.13"
  }
 },
 "nbformat": 4,
 "nbformat_minor": 5
}
