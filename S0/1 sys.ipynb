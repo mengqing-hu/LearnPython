{
 "cells": [
  {
   "cell_type": "code",
   "execution_count": 6,
   "id": "75c670f4",
   "metadata": {},
   "outputs": [],
   "source": [
    "import sys"
   ]
  },
  {
   "cell_type": "markdown",
   "id": "5eecda37",
   "metadata": {},
   "source": [
    "1. 解释器 & 环境信息\n",
    "- sys.version → Python 版本字符串\n",
    "- sys.version_info → 版本号元组\n",
    "- sys.platform → 当前平台（如 \"win32\", \"linux\", \"darwin\"）\n",
    "- sys.executable → Python 解释器路径\n",
    "- sys.path → 模块搜索路径（列表，可动态修改）"
   ]
  },
  {
   "cell_type": "code",
   "execution_count": 7,
   "id": "112785b4",
   "metadata": {},
   "outputs": [
    {
     "data": {
      "text/plain": [
       "'3.10.13 (main, Aug 25 2024, 16:32:44) [Clang 18.1.8 ]'"
      ]
     },
     "execution_count": 7,
     "metadata": {},
     "output_type": "execute_result"
    }
   ],
   "source": [
    "sys.version"
   ]
  },
  {
   "cell_type": "code",
   "execution_count": 8,
   "id": "0a844162",
   "metadata": {},
   "outputs": [
    {
     "data": {
      "text/plain": [
       "sys.version_info(major=3, minor=10, micro=13, releaselevel='final', serial=0)"
      ]
     },
     "execution_count": 8,
     "metadata": {},
     "output_type": "execute_result"
    }
   ],
   "source": [
    "sys.version_info"
   ]
  },
  {
   "cell_type": "code",
   "execution_count": 9,
   "id": "b33a2b23",
   "metadata": {},
   "outputs": [
    {
     "data": {
      "text/plain": [
       "'darwin'"
      ]
     },
     "execution_count": 9,
     "metadata": {},
     "output_type": "execute_result"
    }
   ],
   "source": [
    "sys.platform"
   ]
  },
  {
   "cell_type": "code",
   "execution_count": 10,
   "id": "3251ff9f",
   "metadata": {},
   "outputs": [
    {
     "data": {
      "text/plain": [
       "'/Users/humengqing/.pyenv/versions/3.10.13/bin/python'"
      ]
     },
     "execution_count": 10,
     "metadata": {},
     "output_type": "execute_result"
    }
   ],
   "source": [
    "sys.executable"
   ]
  },
  {
   "cell_type": "code",
   "execution_count": 11,
   "id": "f180d400",
   "metadata": {},
   "outputs": [
    {
     "data": {
      "text/plain": [
       "['/Users/humengqing/.pyenv/versions/3.10.13/lib/python310.zip',\n",
       " '/Users/humengqing/.pyenv/versions/3.10.13/lib/python3.10',\n",
       " '/Users/humengqing/.pyenv/versions/3.10.13/lib/python3.10/lib-dynload',\n",
       " '',\n",
       " '/Users/humengqing/.pyenv/versions/3.10.13/lib/python3.10/site-packages']"
      ]
     },
     "execution_count": 11,
     "metadata": {},
     "output_type": "execute_result"
    }
   ],
   "source": [
    "sys.path"
   ]
  },
  {
   "cell_type": "markdown",
   "id": "29a5b19d",
   "metadata": {},
   "source": [
    "2. 命令行参数\n",
    "- sys.argv → 获取命令行参数（列表，argv[0] 是脚本名）"
   ]
  },
  {
   "cell_type": "code",
   "execution_count": 13,
   "id": "b39b0d37",
   "metadata": {},
   "outputs": [
    {
     "data": {
      "text/plain": [
       "['/Users/humengqing/.pyenv/versions/3.10.13/lib/python3.10/site-packages/ipykernel_launcher.py',\n",
       " '--f=/Users/humengqing/Library/Jupyter/runtime/kernel-v30354763ed8ff71db1623c597166ae36ca9f6a979.json']"
      ]
     },
     "execution_count": 13,
     "metadata": {},
     "output_type": "execute_result"
    }
   ],
   "source": [
    "sys.argv"
   ]
  },
  {
   "cell_type": "markdown",
   "id": "4e0ab55c",
   "metadata": {},
   "source": [
    "4. 标准输入/输出/错误流\n",
    "- sys.stdin → 标准输入（默认键盘）\n",
    "- sys.stdout → 标准输出（默认屏幕）\n",
    "- sys.stderr → 错误输出（默认屏幕，但可单独重定向）"
   ]
  },
  {
   "cell_type": "code",
   "execution_count": 18,
   "id": "d4a03773",
   "metadata": {},
   "outputs": [
    {
     "name": "stdout",
     "output_type": "stream",
     "text": [
      "Hello stdout\n"
     ]
    },
    {
     "data": {
      "text/plain": [
       "13"
      ]
     },
     "execution_count": 18,
     "metadata": {},
     "output_type": "execute_result"
    }
   ],
   "source": [
    "sys.stdout.write(\"Hello stdout\\n\")"
   ]
  },
  {
   "cell_type": "code",
   "execution_count": 19,
   "id": "4839583b",
   "metadata": {},
   "outputs": [
    {
     "name": "stderr",
     "output_type": "stream",
     "text": [
      "Error: something went wrong!\n"
     ]
    },
    {
     "data": {
      "text/plain": [
       "29"
      ]
     },
     "execution_count": 19,
     "metadata": {},
     "output_type": "execute_result"
    }
   ],
   "source": [
    "sys.stderr.write(\"Error: something went wrong!\\n\")"
   ]
  }
 ],
 "metadata": {
  "kernelspec": {
   "display_name": "3.10.13",
   "language": "python",
   "name": "python3"
  },
  "language_info": {
   "codemirror_mode": {
    "name": "ipython",
    "version": 3
   },
   "file_extension": ".py",
   "mimetype": "text/x-python",
   "name": "python",
   "nbconvert_exporter": "python",
   "pygments_lexer": "ipython3",
   "version": "3.10.13"
  }
 },
 "nbformat": 4,
 "nbformat_minor": 5
}
